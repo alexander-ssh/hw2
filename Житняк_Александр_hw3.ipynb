{
  "nbformat": 4,
  "nbformat_minor": 0,
  "metadata": {
    "colab": {
      "provenance": []
    },
    "kernelspec": {
      "name": "python3",
      "display_name": "Python 3"
    },
    "language_info": {
      "name": "python"
    }
  },
  "cells": [
    {
      "cell_type": "markdown",
      "source": [
        "# **Нужно ли задумываться о видимости атирибутов?**"
      ],
      "metadata": {
        "id": "h4u09u0hqb0_"
      }
    },
    {
      "cell_type": "code",
      "execution_count": null,
      "metadata": {
        "id": "DtIxLQd0p2dG"
      },
      "outputs": [],
      "source": [
        "class Vehicle:\n",
        "    def __init__(self, id: int, gps_coordinates: tuple[float, float], driver=None):\n",
        "        self.id = id\n",
        "        self.gps_coordinates = gps_coordinates\n",
        "        self.driver = driver\n",
        "\n",
        "    def update_position(self, coordinates: tuple[float, float]):\n",
        "        self.gps_coordinates = coordinates\n",
        "\n",
        "    def assign_driver(self, driver):\n",
        "        self.driver = driver\n",
        "\n",
        "    def remove_driver(self):\n",
        "        self.driver = None\n"
      ]
    },
    {
      "cell_type": "code",
      "source": [
        "class MineTruck(Vehicle):\n",
        "    def __init__(self, id: int, gps_coordinates: tuple[float, float], capacity: str, brand: str, model: str):\n",
        "        super().__init__(id, gps_coordinates)\n",
        "        self.capacity = capacity\n",
        "        self.brand = brand\n",
        "        self.model = model\n",
        "        self.material = None\n",
        "\n",
        "    def load_material(self, material: str):\n",
        "        self.material = material\n",
        "        print(f\"MineTruck {self.id} loaded with {material}.\")\n",
        "\n",
        "    def unload_material(self):\n",
        "        self.material = None\n",
        "        print(f\"MineTruck {self.id} unloaded.\")\n"
      ],
      "metadata": {
        "id": "mPPO8i8sqHLi"
      },
      "execution_count": null,
      "outputs": []
    },
    {
      "cell_type": "code",
      "source": [
        "class RegularTruck(Vehicle):\n",
        "    def __init__(self, id: int, gps_coordinates: tuple[float, float], cargo: str, brand: str, model: str):\n",
        "        super().__init__(id, gps_coordinates)\n",
        "        self.cargo = cargo\n",
        "        self.brand = brand\n",
        "        self.model = model\n",
        "\n",
        "    def load_cargo(self, cargo: str):\n",
        "        self.cargo = cargo\n",
        "        print(f\"RegularTruck {self.id} loaded with {cargo}.\")\n",
        "\n",
        "    def unload_cargo(self):\n",
        "        self.cargo = None\n",
        "        print(f\"RegularTruck {self.id} unloaded.\")"
      ],
      "metadata": {
        "id": "GL7JzthfqEb5"
      },
      "execution_count": null,
      "outputs": []
    },
    {
      "cell_type": "code",
      "source": [
        "class ServiceVehicle(Vehicle):\n",
        "    def __init__(self, id: int, gps_coordinates: tuple[float, float], purpose: str, brand: str, model: str):\n",
        "        super().__init__(id, gps_coordinates)\n",
        "        self.purpose = purpose\n",
        "        self.brand = brand\n",
        "        self.model = model\n",
        "\n",
        "    def dispatch_for_emergency(self):\n",
        "        print(f\"ServiceVehicle {self.id} dispatched for emergency with purpose: {self.purpose}.\")"
      ],
      "metadata": {
        "id": "Jqog6PAPqD86"
      },
      "execution_count": null,
      "outputs": []
    },
    {
      "cell_type": "code",
      "source": [
        "\n",
        "class Driver:\n",
        "    def __init__(self, id: int, first_name: str, last_name: str, radio_number: str):\n",
        "        self.id = id\n",
        "        self.first_name = first_name\n",
        "        self.last_name = last_name\n",
        "        self.radio_number = radio_number\n",
        "        self.vehicle = None\n",
        "\n",
        "    def start_shift(self, vehicle: Vehicle):\n",
        "        self.vehicle = vehicle\n",
        "        vehicle.assign_driver(self)\n",
        "\n",
        "    def end_shift(self):\n",
        "        if self.vehicle:\n",
        "            self.vehicle.remove_driver()\n",
        "            self.vehicle = None\n"
      ],
      "metadata": {
        "id": "Uts5mLFQp68E"
      },
      "execution_count": null,
      "outputs": []
    },
    {
      "cell_type": "code",
      "source": [
        "class Operator:\n",
        "    def __init__(self, id: int):\n",
        "        self.id = id\n",
        "\n",
        "    def assign_driver_to_vehicle(self, driver: Driver, vehicle: Vehicle):\n",
        "        if driver.vehicle:\n",
        "          driver.end_shift()\n",
        "\n",
        "        driver.start_shift(vehicle)\n",
        "\n",
        "    def send_to_repair(self, vehicle: Vehicle):\n",
        "        print(f\"Vehicle {vehicle.id} sent for repair.\")\n",
        "\n",
        "    def end_driver_shift(self, driver: Driver):\n",
        "        driver.end_shift()"
      ],
      "metadata": {
        "id": "gjAFBUpEp9Wx"
      },
      "execution_count": null,
      "outputs": []
    }
  ]
}
