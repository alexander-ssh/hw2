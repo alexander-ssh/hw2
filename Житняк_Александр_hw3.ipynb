{
  "cells": [
    {
      "cell_type": "code",
      "execution_count": null,
      "metadata": {
        "id": "DtIxLQd0p2dG"
      },
      "outputs": [],
      "source": []
    },
    {
      "cell_type": "code",
      "execution_count": null,
      "metadata": {},
      "outputs": [],
      "source": [
        "class Vehicle:\n",
        "    id = 0\n",
        "    gps_coordinates = (0.0,0.0)\n",
        "    driver = None\n",
        "    def __init__(self, id: int, gps_coordinates: tuple[float, float], driver):\n",
        "        self.id = id\n",
        "        self.gps_coordinates = gps_coordinates\n",
        "        self.driver = driver\n",
        "\n",
        "    def update_position(self, coordinates: tuple[float, float]):\n",
        "        self.gps_coordinates = coordinates\n",
        "\n",
        "    def assign_driver(self, driver):\n",
        "        self.driver = driver\n",
        "\n",
        "    def remove_driver(self):\n",
        "        self.driver = None\n"
      ]
    },
    {
      "cell_type": "code",
      "execution_count": null,
      "metadata": {},
      "outputs": [],
      "source": [
        "\n",
        "class Driver:\n",
        "    id = 0\n",
        "    first_name = 'Иван'\n",
        "    last_name = 'Иванов'\n",
        "    radio_number = 0\n",
        "    vehicle:Vehicle\n",
        "    def __init__(self, id: int, first_name: str, last_name: str, radio_number: str):\n",
        "        self.id = id\n",
        "        self.first_name = first_name\n",
        "        self.last_name = last_name\n",
        "        self.radio_number = radio_number\n",
        "        self.vehicle = None\n",
        "\n",
        "    def start_shift(self, vehicle: Vehicle):\n",
        "        self.vehicle = vehicle\n",
        "        vehicle.assign_driver(self)\n",
        "\n",
        "    def end_shift(self):\n",
        "        if self.vehicle:\n",
        "            self.vehicle.remove_driver()\n",
        "            self.vehicle = None\n"
      ]
    },
    {
      "cell_type": "code",
      "execution_count": null,
      "metadata": {
        "id": "mPPO8i8sqHLi"
      },
      "outputs": [],
      "source": [
        "class MineTruck(Vehicle):\n",
        "    capacity = 0\n",
        "    brand = ''\n",
        "    model = ''\n",
        "\n",
        "    def __init__(self, id: int, gps_coordinates: tuple[float, float], driver: Driver, capacity: int, brand: str, model: str):\n",
        "        super().__init__(id, gps_coordinates, driver)\n",
        "        self.capacity = capacity\n",
        "        self.brand = brand\n",
        "        self.model = model\n",
        "    def load():\n",
        "        pass\n",
        "    def unload():\n",
        "        pass\n"
      ]
    },
    {
      "cell_type": "code",
      "execution_count": null,
      "metadata": {
        "id": "GL7JzthfqEb5"
      },
      "outputs": [],
      "source": [
        "class RegularTruck(Vehicle):\n",
        "    material = ''\n",
        "    brand = ''\n",
        "    model = ''\n",
        "    def __init__(self, id: int, gps_coordinates: tuple[float, float], driver: Driver, material: str, brand: str, model: str):\n",
        "        super().__init__(id, gps_coordinates, driver)\n",
        "        self.material = material\n",
        "        self.brand = brand\n",
        "        self.model = model\n",
        "\n",
        "    def load_material(self, material: str):\n",
        "        self.material = material\n",
        "        print(f\"RegularTruck {self.id} loaded with {material}.\")\n",
        "\n",
        "    def unload_material(self):\n",
        "        self.material = ''\n",
        "        print(f\"RegularTruck {self.id} unloaded.\")"
      ]
    },
    {
      "cell_type": "code",
      "execution_count": null,
      "metadata": {
        "id": "Jqog6PAPqD86"
      },
      "outputs": [],
      "source": [
        "class ServiceVehicle(Vehicle):\n",
        "    purpose = ''\n",
        "    def __init__(self, id: int, gps_coordinates: tuple[float, float], driver: Driver, purpose: str):\n",
        "        super().__init__(id, gps_coordinates, driver)\n",
        "        self.purpose = purpose\n",
        "        self.driver = driver\n",
        "\n",
        "    def dispatch_for_emergency(self):\n",
        "        print(f\"ServiceVehicle {self.id} dispatched for emergency with purpose: {self.purpose}.\")"
      ]
    },
    {
      "cell_type": "code",
      "execution_count": null,
      "metadata": {
        "id": "gjAFBUpEp9Wx"
      },
      "outputs": [],
      "source": [
        "class Operator:\n",
        "    def __init__(self, id: int):\n",
        "        self.id = id\n",
        "\n",
        "    def assign_driver_to_vehicle(self, driver: Driver, vehicle: Vehicle):\n",
        "        if driver.vehicle:\n",
        "            driver.end_shift()\n",
        "\n",
        "        driver.start_shift(vehicle)\n",
        "\n",
        "    def send_to_repair(self, vehicle: Vehicle):\n",
        "        print(f\"Vehicle {vehicle.id} sent for repair.\")\n",
        "\n",
        "    def end_driver_shift(self, driver: Driver):\n",
        "        driver.end_shift()"
      ]
    }
  ],
  "metadata": {
    "colab": {
      "provenance": []
    },
    "kernelspec": {
      "display_name": "Python 3",
      "name": "python3"
    },
    "language_info": {
      "name": "python"
    }
  },
  "nbformat": 4,
  "nbformat_minor": 0
}
